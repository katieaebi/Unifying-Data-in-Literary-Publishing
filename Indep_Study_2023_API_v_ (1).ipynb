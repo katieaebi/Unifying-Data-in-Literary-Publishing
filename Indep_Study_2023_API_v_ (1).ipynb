{
  "nbformat": 4,
  "nbformat_minor": 0,
  "metadata": {
    "colab": {
      "provenance": []
    },
    "kernelspec": {
      "name": "python3",
      "display_name": "Python 3"
    },
    "language_info": {
      "name": "python"
    }
  },
  "cells": [
    {
      "cell_type": "code",
      "source": [
        "!pip install pynytimes"
      ],
      "metadata": {
        "id": "_dG92PTTRSp7"
      },
      "execution_count": null,
      "outputs": []
    },
    {
      "cell_type": "code",
      "source": [
        "from pynytimes import NYTAPI\n",
        "import pandas as pd\n",
        "import numpy as np\n",
        "from matplotlib import pyplot as plt\n",
        "import seaborn as sns\n",
        "import datetime\n",
        "import calendar"
      ],
      "metadata": {
        "id": "6wqesXSBUuOT"
      },
      "execution_count": null,
      "outputs": []
    },
    {
      "cell_type": "code",
      "source": [
        "from google.colab import drive\n",
        "drive.mount('/content/drive')"
      ],
      "metadata": {
        "id": "ZQM9iBBm4bxs"
      },
      "execution_count": null,
      "outputs": []
    },
    {
      "cell_type": "code",
      "source": [
        "nyt = NYTAPI(\"DFQYRmQyXtA0xvz1ZVNLJ3rwr8b5aQhI\", parse_dates=True)"
      ],
      "metadata": {
        "id": "o2TzH2EOWD1c"
      },
      "execution_count": null,
      "outputs": []
    },
    {
      "cell_type": "code",
      "source": [
        "lists = nyt.best_sellers_lists()"
      ],
      "metadata": {
        "id": "bn-kmszPbx3i"
      },
      "execution_count": null,
      "outputs": []
    },
    {
      "cell_type": "code",
      "source": [
        "type(lists)"
      ],
      "metadata": {
        "id": "Qa0FeCtIdHD5"
      },
      "execution_count": null,
      "outputs": []
    },
    {
      "cell_type": "code",
      "source": [
        "lists[10]"
      ],
      "metadata": {
        "id": "k9Thy7p5dMEQ"
      },
      "execution_count": null,
      "outputs": []
    },
    {
      "cell_type": "code",
      "source": [
        "lists_array = np.array(lists)"
      ],
      "metadata": {
        "id": "RpADV8PbdjKN"
      },
      "execution_count": null,
      "outputs": []
    },
    {
      "cell_type": "code",
      "source": [
        "type(lists_array[0])"
      ],
      "metadata": {
        "id": "JP3sd9DPeoS_"
      },
      "execution_count": null,
      "outputs": []
    },
    {
      "cell_type": "code",
      "source": [
        "lists_array[0]['list_name']"
      ],
      "metadata": {
        "id": "3qKdHXtUfttf"
      },
      "execution_count": null,
      "outputs": []
    },
    {
      "cell_type": "code",
      "source": [
        "list_encoded_names = []\n",
        "for i in range(len(lists_array)):\n",
        "  encoded = lists_array[i]['list_name_encoded']\n",
        "  list_encoded_names.append(encoded)\n",
        "list_encoded_names = np.array(list_encoded_names)"
      ],
      "metadata": {
        "id": "HMHqjmIfb5-U"
      },
      "execution_count": null,
      "outputs": []
    },
    {
      "cell_type": "code",
      "source": [
        "list_encoded_names"
      ],
      "metadata": {
        "id": "8FXyIUX8iQyY"
      },
      "execution_count": null,
      "outputs": []
    },
    {
      "cell_type": "code",
      "source": [
        "nyt.best_sellers_list(name=\"combined-print-and-e-book-fiction\", date=None)"
      ],
      "metadata": {
        "id": "EFPmExFsxUSi"
      },
      "execution_count": null,
      "outputs": []
    },
    {
      "cell_type": "code",
      "source": [
        "test = nyt.best_sellers_list(name=\"combined-print-and-e-book-fiction\", date=None)\n",
        "print(test)"
      ],
      "metadata": {
        "id": "n5M7ZFg_jFKF"
      },
      "execution_count": null,
      "outputs": []
    },
    {
      "cell_type": "code",
      "source": [
        "test[0].keys()"
      ],
      "metadata": {
        "id": "n23G_1NTjenu"
      },
      "execution_count": null,
      "outputs": []
    },
    {
      "cell_type": "code",
      "source": [
        "len(test)"
      ],
      "metadata": {
        "id": "xSjRdv-zJSs5"
      },
      "execution_count": null,
      "outputs": []
    },
    {
      "cell_type": "code",
      "source": [
        "for i in range(len(test)-1):\n",
        "  first_keys = test[i].keys()\n",
        "  next_keys = test[i+1].keys()\n",
        "  if first_keys == next_keys:\n",
        "    print('good')\n",
        "    print(i)"
      ],
      "metadata": {
        "id": "G1nkd7tDJYAd"
      },
      "execution_count": null,
      "outputs": []
    },
    {
      "cell_type": "code",
      "source": [
        "keys = list(test[0].keys())\n",
        "keys = keys[:23]\n",
        "keys"
      ],
      "metadata": {
        "id": "I1v8oeV1ZKhB"
      },
      "execution_count": null,
      "outputs": []
    },
    {
      "cell_type": "code",
      "source": [
        "test[0]"
      ],
      "metadata": {
        "id": "zZ7lmo_hvlQv"
      },
      "execution_count": null,
      "outputs": []
    },
    {
      "cell_type": "code",
      "source": [
        "def list_to_df(list_stuff):\n",
        "  books_data = []\n",
        "  counter = 0\n",
        "  for i in range(len(list_stuff)):\n",
        "    values = []\n",
        "    for j in enumerate(keys):\n",
        "      key = j[1]\n",
        "      values.append(list_stuff[counter][key])\n",
        "    books_data.append(values)\n",
        "    counter = counter+1\n",
        "  df = pd.DataFrame(books_data, columns = keys)\n",
        "  return df"
      ],
      "metadata": {
        "id": "gvfZS5l_Luck"
      },
      "execution_count": null,
      "outputs": []
    },
    {
      "cell_type": "code",
      "source": [
        "books_data =list_to_df(test)\n",
        "books_data.head()"
      ],
      "metadata": {
        "id": "X61SIuQwVRIs"
      },
      "execution_count": null,
      "outputs": []
    },
    {
      "cell_type": "code",
      "source": [
        "len(books_data.columns)"
      ],
      "metadata": {
        "id": "qrY5xYdfMOVo"
      },
      "execution_count": null,
      "outputs": []
    },
    {
      "cell_type": "code",
      "source": [
        "list_encoded_names"
      ],
      "metadata": {
        "id": "YbdTOk34gVd7"
      },
      "execution_count": null,
      "outputs": []
    },
    {
      "cell_type": "code",
      "source": [
        "test_codes = list_encoded_names[:4]\n",
        "test_codes"
      ],
      "metadata": {
        "id": "NQzfOP_ZLTFK"
      },
      "execution_count": null,
      "outputs": []
    },
    {
      "cell_type": "code",
      "source": [
        "def categories_and_dates(df, genre, month, day):\n",
        "  categories = np.empty(len(df), dtype=object)\n",
        "  categories.fill(genre)\n",
        "  df['categories'] = categories\n",
        "\n",
        "  list_date = np.empty(len(df), dtype=object)\n",
        "  list_date.fill([2023, month, day])\n",
        "  df['list_publication_date'] = list_date\n",
        "\n",
        "  month_names = ['January', 'February', 'March', 'April', 'May', 'June', 'July', 'August', 'September', 'October', 'November', 'December']\n",
        "  list_month = np.empty(len(df), dtype=object)\n",
        "  month_name = month_names[month-1]\n",
        "  list_month.fill(month_name)\n",
        "  df['month'] = list_month\n",
        "\n",
        "  return df"
      ],
      "metadata": {
        "id": "gXeoDZRapnFR"
      },
      "execution_count": null,
      "outputs": []
    },
    {
      "cell_type": "code",
      "source": [
        "count = 0\n",
        "for i, genre in enumerate(test_codes):\n",
        "  category = nyt.best_sellers_list(name=genre, date=datetime.datetime(2023, 12, 3))\n",
        "  if count == 0:\n",
        "    best_sellers_df = list_to_df(category)\n",
        "    best_sellers_df = categories_and_dates(best_sellers_df, genre, 12, 3)\n",
        "  else:\n",
        "    df = list_to_df(category)\n",
        "    df = categories_and_dates(df, genre, 12, 3)\n",
        "    #best_sellers_df = best_sellers_df.append(df, ignore_index = True)\n",
        "    best_sellers_df = pd.concat([best_sellers_df, df], ignore_index=True)\n",
        "  count = count+1\n",
        "  print(count)"
      ],
      "metadata": {
        "id": "XbuIK-tPM1CF"
      },
      "execution_count": null,
      "outputs": []
    },
    {
      "cell_type": "code",
      "source": [
        "best_sellers_df.head()"
      ],
      "metadata": {
        "id": "JwpumIY_OHaw"
      },
      "execution_count": null,
      "outputs": []
    },
    {
      "cell_type": "code",
      "source": [
        "best_sellers_df['categories'].unique()"
      ],
      "metadata": {
        "id": "AohpZhZIUHsx"
      },
      "execution_count": null,
      "outputs": []
    },
    {
      "cell_type": "code",
      "source": [
        "best_sellers_df.columns"
      ],
      "metadata": {
        "id": "zWE_-DSaySqS"
      },
      "execution_count": null,
      "outputs": []
    },
    {
      "cell_type": "code",
      "source": [
        "months = np.arange(1, 12, 1) #Excluding December, because we already have the only data that's available for that month at this time\n",
        "months"
      ],
      "metadata": {
        "id": "gsB9KCDj1fGp"
      },
      "execution_count": null,
      "outputs": []
    },
    {
      "cell_type": "code",
      "source": [
        "def get_sundays(month):\n",
        "  Cal = calendar.Calendar(firstweekday=0)\n",
        "  dates = np.array(Cal.monthdays2calendar(2023, month))\n",
        "  dates = dates.T[0,6]\n",
        "  sundays = []\n",
        "  for i, day in enumerate(dates):\n",
        "    if day == 0:\n",
        "      continue\n",
        "    else:\n",
        "      sundays.append(day)\n",
        "  sundays = np.array(sundays)\n",
        "  return sundays"
      ],
      "metadata": {
        "id": "mmMmsV72fQXg"
      },
      "execution_count": null,
      "outputs": []
    },
    {
      "cell_type": "code",
      "source": [
        "get_sundays(months[10])"
      ],
      "metadata": {
        "id": "RQ_I3VyoZsqa"
      },
      "execution_count": null,
      "outputs": []
    },
    {
      "cell_type": "code",
      "source": [
        "def month_to_df(month, genre):\n",
        "  sundays = get_sundays(month)\n",
        "  for i, day in enumerate(sundays):\n",
        "    if i == 0:\n",
        "      category = nyt.best_sellers_list(name = genre, date = datetime.datetime(2023, month, day))\n",
        "      df_month = list_to_df(category)\n",
        "      df_month = categories_and_dates(df_month, genre, month, day)\n",
        "    else:\n",
        "      category = nyt.best_sellers_list(name = genre, date = datetime.datetime(2023, month, day))\n",
        "      df = list_to_df(category)\n",
        "      df = categories_and_dates(df, genre, month, day)\n",
        "      df_month = pd.concat([df_month, df], ignore_index=True)\n",
        "  return df_month"
      ],
      "metadata": {
        "id": "rw1RueKqkyJS"
      },
      "execution_count": null,
      "outputs": []
    },
    {
      "cell_type": "code",
      "source": [
        "def year_to_df(genre):\n",
        "  for i, month in enumerate(months):\n",
        "    if i == 0:\n",
        "      year_df = month_to_df(month, genre)\n",
        "    else:\n",
        "      month_df = month_to_df(month, genre)\n",
        "      year_df = pd.concat([year_df, month_df], ignore_index=True)\n",
        "  return year_df"
      ],
      "metadata": {
        "id": "kMHDbYSk5Mc_"
      },
      "execution_count": null,
      "outputs": []
    },
    {
      "cell_type": "code",
      "source": [
        "test_year = year_to_df('hardcover-fiction')\n",
        "test_year"
      ],
      "metadata": {
        "colab": {
          "base_uri": "https://localhost:8080/",
          "height": 964
        },
        "id": "ldPV_AU-6UtV",
        "outputId": "eeb59221-ae19-40b8-afbd-e4baa14e4b7a"
      },
      "execution_count": null,
      "outputs": [
        {
          "output_type": "execute_result",
          "data": {
            "text/plain": [
              "     rank  rank_last_week  weeks_on_list  asterisk  dagger primary_isbn10  \\\n",
              "0       1               1             32         0       0     038554734X   \n",
              "1       2               2              9         0       0     0385548923   \n",
              "2       3               3             15         0       0     1668002175   \n",
              "3       4               5              9         0       0     0063251922   \n",
              "4       5               6             13         0       0     059344955X   \n",
              "..    ...             ...            ...       ...     ...            ...   \n",
              "715    11               0              1         0       0     059354417X   \n",
              "716    12              12             28         0       0     0802162177   \n",
              "717    13              15             28         0       0     0063204150   \n",
              "718    14               0              1         0       0     1668050412   \n",
              "719    15               0              1         0       0     0451466829   \n",
              "\n",
              "    primary_isbn13     publisher  \\\n",
              "0    9780385547345     Doubleday   \n",
              "1    9780385548922     Doubleday   \n",
              "2    9781668002179      Scribner   \n",
              "3    9780063251922        Harper   \n",
              "4    9780593449554  Random House   \n",
              "..             ...           ...   \n",
              "715  9780593544174        Putnam   \n",
              "716  9780802162175         Grove   \n",
              "717  9780063204157          Ecco   \n",
              "718  9781668050415       Gallery   \n",
              "719  9780451466822           Ace   \n",
              "\n",
              "                                           description price  ...  \\\n",
              "0    A scientist and single mother living in Califo...  0.00  ...   \n",
              "1    Two childhood friends follow in their fathers’...  0.00  ...   \n",
              "2    A high school kid inherits a shed that is a po...  0.00  ...   \n",
              "3    A reimagining of Charles Dickens’s “David Copp...  0.00  ...   \n",
              "4    Musicians from different backgrounds are attra...  0.00  ...   \n",
              "..                                                 ...   ...  ...   \n",
              "715  The 27th book in the Dirk Pitt series. A murde...  0.00  ...   \n",
              "716  Three generations of a family living on South ...  0.00  ...   \n",
              "717  A widow working the night shift at the Sowell ...  0.00  ...   \n",
              "718  A collection of poems exploring how love relat...  0.00  ...   \n",
              "719  The second book in the Cinder Spires series. T...  0.00  ...   \n",
              "\n",
              "    book_image_height                                 amazon_product_url  \\\n",
              "0                 500  https://www.amazon.com/dp/038554734X?tag=NYTBS...   \n",
              "1                 500  https://www.amazon.com/dp/0385548923?tag=NYTBS...   \n",
              "2                 500  https://www.amazon.com/dp/1668002175?tag=NYTBS...   \n",
              "3                 500  https://www.amazon.com/dp/0063251922?tag=NYTBS...   \n",
              "4                 500  https://www.amazon.com/dp/059344955X?tag=NYTBS...   \n",
              "..                ...                                                ...   \n",
              "715               500  https://www.amazon.com/dp/059354417X?tag=NYTBS...   \n",
              "716               500  https://www.amazon.com/dp/0802162177?tag=NYTBS...   \n",
              "717               500  https://www.amazon.com/dp/0063204150?tag=NYTBS...   \n",
              "718               500  https://www.amazon.com/dp/1668050412?tag=NYTBS...   \n",
              "719               500  https://www.amazon.com/dp/0451466829?tag=NYTBS...   \n",
              "\n",
              "    age_group book_review_link first_chapter_link  sunday_review_link  \\\n",
              "0                                                                       \n",
              "1                                                                       \n",
              "2                                                                       \n",
              "3                                                                       \n",
              "4                                                                       \n",
              "..        ...              ...                ...                 ...   \n",
              "715                                                                     \n",
              "716                                                                     \n",
              "717                                                                     \n",
              "718                                                                     \n",
              "719                                                                     \n",
              "\n",
              "     article_chapter_link         categories list_publication_date     month  \n",
              "0                          hardcover-fiction          [2023, 1, 1]   January  \n",
              "1                          hardcover-fiction          [2023, 1, 1]   January  \n",
              "2                          hardcover-fiction          [2023, 1, 1]   January  \n",
              "3                          hardcover-fiction          [2023, 1, 1]   January  \n",
              "4                          hardcover-fiction          [2023, 1, 1]   January  \n",
              "..                    ...                ...                   ...       ...  \n",
              "715                        hardcover-fiction        [2023, 11, 26]  November  \n",
              "716                        hardcover-fiction        [2023, 11, 26]  November  \n",
              "717                        hardcover-fiction        [2023, 11, 26]  November  \n",
              "718                        hardcover-fiction        [2023, 11, 26]  November  \n",
              "719                        hardcover-fiction        [2023, 11, 26]  November  \n",
              "\n",
              "[720 rows x 26 columns]"
            ],
            "text/html": [
              "\n",
              "  <div id=\"df-cb11885a-7264-4e27-8788-db6f02e415a6\" class=\"colab-df-container\">\n",
              "    <div>\n",
              "<style scoped>\n",
              "    .dataframe tbody tr th:only-of-type {\n",
              "        vertical-align: middle;\n",
              "    }\n",
              "\n",
              "    .dataframe tbody tr th {\n",
              "        vertical-align: top;\n",
              "    }\n",
              "\n",
              "    .dataframe thead th {\n",
              "        text-align: right;\n",
              "    }\n",
              "</style>\n",
              "<table border=\"1\" class=\"dataframe\">\n",
              "  <thead>\n",
              "    <tr style=\"text-align: right;\">\n",
              "      <th></th>\n",
              "      <th>rank</th>\n",
              "      <th>rank_last_week</th>\n",
              "      <th>weeks_on_list</th>\n",
              "      <th>asterisk</th>\n",
              "      <th>dagger</th>\n",
              "      <th>primary_isbn10</th>\n",
              "      <th>primary_isbn13</th>\n",
              "      <th>publisher</th>\n",
              "      <th>description</th>\n",
              "      <th>price</th>\n",
              "      <th>...</th>\n",
              "      <th>book_image_height</th>\n",
              "      <th>amazon_product_url</th>\n",
              "      <th>age_group</th>\n",
              "      <th>book_review_link</th>\n",
              "      <th>first_chapter_link</th>\n",
              "      <th>sunday_review_link</th>\n",
              "      <th>article_chapter_link</th>\n",
              "      <th>categories</th>\n",
              "      <th>list_publication_date</th>\n",
              "      <th>month</th>\n",
              "    </tr>\n",
              "  </thead>\n",
              "  <tbody>\n",
              "    <tr>\n",
              "      <th>0</th>\n",
              "      <td>1</td>\n",
              "      <td>1</td>\n",
              "      <td>32</td>\n",
              "      <td>0</td>\n",
              "      <td>0</td>\n",
              "      <td>038554734X</td>\n",
              "      <td>9780385547345</td>\n",
              "      <td>Doubleday</td>\n",
              "      <td>A scientist and single mother living in Califo...</td>\n",
              "      <td>0.00</td>\n",
              "      <td>...</td>\n",
              "      <td>500</td>\n",
              "      <td>https://www.amazon.com/dp/038554734X?tag=NYTBS...</td>\n",
              "      <td></td>\n",
              "      <td></td>\n",
              "      <td></td>\n",
              "      <td></td>\n",
              "      <td></td>\n",
              "      <td>hardcover-fiction</td>\n",
              "      <td>[2023, 1, 1]</td>\n",
              "      <td>January</td>\n",
              "    </tr>\n",
              "    <tr>\n",
              "      <th>1</th>\n",
              "      <td>2</td>\n",
              "      <td>2</td>\n",
              "      <td>9</td>\n",
              "      <td>0</td>\n",
              "      <td>0</td>\n",
              "      <td>0385548923</td>\n",
              "      <td>9780385548922</td>\n",
              "      <td>Doubleday</td>\n",
              "      <td>Two childhood friends follow in their fathers’...</td>\n",
              "      <td>0.00</td>\n",
              "      <td>...</td>\n",
              "      <td>500</td>\n",
              "      <td>https://www.amazon.com/dp/0385548923?tag=NYTBS...</td>\n",
              "      <td></td>\n",
              "      <td></td>\n",
              "      <td></td>\n",
              "      <td></td>\n",
              "      <td></td>\n",
              "      <td>hardcover-fiction</td>\n",
              "      <td>[2023, 1, 1]</td>\n",
              "      <td>January</td>\n",
              "    </tr>\n",
              "    <tr>\n",
              "      <th>2</th>\n",
              "      <td>3</td>\n",
              "      <td>3</td>\n",
              "      <td>15</td>\n",
              "      <td>0</td>\n",
              "      <td>0</td>\n",
              "      <td>1668002175</td>\n",
              "      <td>9781668002179</td>\n",
              "      <td>Scribner</td>\n",
              "      <td>A high school kid inherits a shed that is a po...</td>\n",
              "      <td>0.00</td>\n",
              "      <td>...</td>\n",
              "      <td>500</td>\n",
              "      <td>https://www.amazon.com/dp/1668002175?tag=NYTBS...</td>\n",
              "      <td></td>\n",
              "      <td></td>\n",
              "      <td></td>\n",
              "      <td></td>\n",
              "      <td></td>\n",
              "      <td>hardcover-fiction</td>\n",
              "      <td>[2023, 1, 1]</td>\n",
              "      <td>January</td>\n",
              "    </tr>\n",
              "    <tr>\n",
              "      <th>3</th>\n",
              "      <td>4</td>\n",
              "      <td>5</td>\n",
              "      <td>9</td>\n",
              "      <td>0</td>\n",
              "      <td>0</td>\n",
              "      <td>0063251922</td>\n",
              "      <td>9780063251922</td>\n",
              "      <td>Harper</td>\n",
              "      <td>A reimagining of Charles Dickens’s “David Copp...</td>\n",
              "      <td>0.00</td>\n",
              "      <td>...</td>\n",
              "      <td>500</td>\n",
              "      <td>https://www.amazon.com/dp/0063251922?tag=NYTBS...</td>\n",
              "      <td></td>\n",
              "      <td></td>\n",
              "      <td></td>\n",
              "      <td></td>\n",
              "      <td></td>\n",
              "      <td>hardcover-fiction</td>\n",
              "      <td>[2023, 1, 1]</td>\n",
              "      <td>January</td>\n",
              "    </tr>\n",
              "    <tr>\n",
              "      <th>4</th>\n",
              "      <td>5</td>\n",
              "      <td>6</td>\n",
              "      <td>13</td>\n",
              "      <td>0</td>\n",
              "      <td>0</td>\n",
              "      <td>059344955X</td>\n",
              "      <td>9780593449554</td>\n",
              "      <td>Random House</td>\n",
              "      <td>Musicians from different backgrounds are attra...</td>\n",
              "      <td>0.00</td>\n",
              "      <td>...</td>\n",
              "      <td>500</td>\n",
              "      <td>https://www.amazon.com/dp/059344955X?tag=NYTBS...</td>\n",
              "      <td></td>\n",
              "      <td></td>\n",
              "      <td></td>\n",
              "      <td></td>\n",
              "      <td></td>\n",
              "      <td>hardcover-fiction</td>\n",
              "      <td>[2023, 1, 1]</td>\n",
              "      <td>January</td>\n",
              "    </tr>\n",
              "    <tr>\n",
              "      <th>...</th>\n",
              "      <td>...</td>\n",
              "      <td>...</td>\n",
              "      <td>...</td>\n",
              "      <td>...</td>\n",
              "      <td>...</td>\n",
              "      <td>...</td>\n",
              "      <td>...</td>\n",
              "      <td>...</td>\n",
              "      <td>...</td>\n",
              "      <td>...</td>\n",
              "      <td>...</td>\n",
              "      <td>...</td>\n",
              "      <td>...</td>\n",
              "      <td>...</td>\n",
              "      <td>...</td>\n",
              "      <td>...</td>\n",
              "      <td>...</td>\n",
              "      <td>...</td>\n",
              "      <td>...</td>\n",
              "      <td>...</td>\n",
              "      <td>...</td>\n",
              "    </tr>\n",
              "    <tr>\n",
              "      <th>715</th>\n",
              "      <td>11</td>\n",
              "      <td>0</td>\n",
              "      <td>1</td>\n",
              "      <td>0</td>\n",
              "      <td>0</td>\n",
              "      <td>059354417X</td>\n",
              "      <td>9780593544174</td>\n",
              "      <td>Putnam</td>\n",
              "      <td>The 27th book in the Dirk Pitt series. A murde...</td>\n",
              "      <td>0.00</td>\n",
              "      <td>...</td>\n",
              "      <td>500</td>\n",
              "      <td>https://www.amazon.com/dp/059354417X?tag=NYTBS...</td>\n",
              "      <td></td>\n",
              "      <td></td>\n",
              "      <td></td>\n",
              "      <td></td>\n",
              "      <td></td>\n",
              "      <td>hardcover-fiction</td>\n",
              "      <td>[2023, 11, 26]</td>\n",
              "      <td>November</td>\n",
              "    </tr>\n",
              "    <tr>\n",
              "      <th>716</th>\n",
              "      <td>12</td>\n",
              "      <td>12</td>\n",
              "      <td>28</td>\n",
              "      <td>0</td>\n",
              "      <td>0</td>\n",
              "      <td>0802162177</td>\n",
              "      <td>9780802162175</td>\n",
              "      <td>Grove</td>\n",
              "      <td>Three generations of a family living on South ...</td>\n",
              "      <td>0.00</td>\n",
              "      <td>...</td>\n",
              "      <td>500</td>\n",
              "      <td>https://www.amazon.com/dp/0802162177?tag=NYTBS...</td>\n",
              "      <td></td>\n",
              "      <td></td>\n",
              "      <td></td>\n",
              "      <td></td>\n",
              "      <td></td>\n",
              "      <td>hardcover-fiction</td>\n",
              "      <td>[2023, 11, 26]</td>\n",
              "      <td>November</td>\n",
              "    </tr>\n",
              "    <tr>\n",
              "      <th>717</th>\n",
              "      <td>13</td>\n",
              "      <td>15</td>\n",
              "      <td>28</td>\n",
              "      <td>0</td>\n",
              "      <td>0</td>\n",
              "      <td>0063204150</td>\n",
              "      <td>9780063204157</td>\n",
              "      <td>Ecco</td>\n",
              "      <td>A widow working the night shift at the Sowell ...</td>\n",
              "      <td>0.00</td>\n",
              "      <td>...</td>\n",
              "      <td>500</td>\n",
              "      <td>https://www.amazon.com/dp/0063204150?tag=NYTBS...</td>\n",
              "      <td></td>\n",
              "      <td></td>\n",
              "      <td></td>\n",
              "      <td></td>\n",
              "      <td></td>\n",
              "      <td>hardcover-fiction</td>\n",
              "      <td>[2023, 11, 26]</td>\n",
              "      <td>November</td>\n",
              "    </tr>\n",
              "    <tr>\n",
              "      <th>718</th>\n",
              "      <td>14</td>\n",
              "      <td>0</td>\n",
              "      <td>1</td>\n",
              "      <td>0</td>\n",
              "      <td>0</td>\n",
              "      <td>1668050412</td>\n",
              "      <td>9781668050415</td>\n",
              "      <td>Gallery</td>\n",
              "      <td>A collection of poems exploring how love relat...</td>\n",
              "      <td>0.00</td>\n",
              "      <td>...</td>\n",
              "      <td>500</td>\n",
              "      <td>https://www.amazon.com/dp/1668050412?tag=NYTBS...</td>\n",
              "      <td></td>\n",
              "      <td></td>\n",
              "      <td></td>\n",
              "      <td></td>\n",
              "      <td></td>\n",
              "      <td>hardcover-fiction</td>\n",
              "      <td>[2023, 11, 26]</td>\n",
              "      <td>November</td>\n",
              "    </tr>\n",
              "    <tr>\n",
              "      <th>719</th>\n",
              "      <td>15</td>\n",
              "      <td>0</td>\n",
              "      <td>1</td>\n",
              "      <td>0</td>\n",
              "      <td>0</td>\n",
              "      <td>0451466829</td>\n",
              "      <td>9780451466822</td>\n",
              "      <td>Ace</td>\n",
              "      <td>The second book in the Cinder Spires series. T...</td>\n",
              "      <td>0.00</td>\n",
              "      <td>...</td>\n",
              "      <td>500</td>\n",
              "      <td>https://www.amazon.com/dp/0451466829?tag=NYTBS...</td>\n",
              "      <td></td>\n",
              "      <td></td>\n",
              "      <td></td>\n",
              "      <td></td>\n",
              "      <td></td>\n",
              "      <td>hardcover-fiction</td>\n",
              "      <td>[2023, 11, 26]</td>\n",
              "      <td>November</td>\n",
              "    </tr>\n",
              "  </tbody>\n",
              "</table>\n",
              "<p>720 rows × 26 columns</p>\n",
              "</div>\n",
              "    <div class=\"colab-df-buttons\">\n",
              "\n",
              "  <div class=\"colab-df-container\">\n",
              "    <button class=\"colab-df-convert\" onclick=\"convertToInteractive('df-cb11885a-7264-4e27-8788-db6f02e415a6')\"\n",
              "            title=\"Convert this dataframe to an interactive table.\"\n",
              "            style=\"display:none;\">\n",
              "\n",
              "  <svg xmlns=\"http://www.w3.org/2000/svg\" height=\"24px\" viewBox=\"0 -960 960 960\">\n",
              "    <path d=\"M120-120v-720h720v720H120Zm60-500h600v-160H180v160Zm220 220h160v-160H400v160Zm0 220h160v-160H400v160ZM180-400h160v-160H180v160Zm440 0h160v-160H620v160ZM180-180h160v-160H180v160Zm440 0h160v-160H620v160Z\"/>\n",
              "  </svg>\n",
              "    </button>\n",
              "\n",
              "  <style>\n",
              "    .colab-df-container {\n",
              "      display:flex;\n",
              "      gap: 12px;\n",
              "    }\n",
              "\n",
              "    .colab-df-convert {\n",
              "      background-color: #E8F0FE;\n",
              "      border: none;\n",
              "      border-radius: 50%;\n",
              "      cursor: pointer;\n",
              "      display: none;\n",
              "      fill: #1967D2;\n",
              "      height: 32px;\n",
              "      padding: 0 0 0 0;\n",
              "      width: 32px;\n",
              "    }\n",
              "\n",
              "    .colab-df-convert:hover {\n",
              "      background-color: #E2EBFA;\n",
              "      box-shadow: 0px 1px 2px rgba(60, 64, 67, 0.3), 0px 1px 3px 1px rgba(60, 64, 67, 0.15);\n",
              "      fill: #174EA6;\n",
              "    }\n",
              "\n",
              "    .colab-df-buttons div {\n",
              "      margin-bottom: 4px;\n",
              "    }\n",
              "\n",
              "    [theme=dark] .colab-df-convert {\n",
              "      background-color: #3B4455;\n",
              "      fill: #D2E3FC;\n",
              "    }\n",
              "\n",
              "    [theme=dark] .colab-df-convert:hover {\n",
              "      background-color: #434B5C;\n",
              "      box-shadow: 0px 1px 3px 1px rgba(0, 0, 0, 0.15);\n",
              "      filter: drop-shadow(0px 1px 2px rgba(0, 0, 0, 0.3));\n",
              "      fill: #FFFFFF;\n",
              "    }\n",
              "  </style>\n",
              "\n",
              "    <script>\n",
              "      const buttonEl =\n",
              "        document.querySelector('#df-cb11885a-7264-4e27-8788-db6f02e415a6 button.colab-df-convert');\n",
              "      buttonEl.style.display =\n",
              "        google.colab.kernel.accessAllowed ? 'block' : 'none';\n",
              "\n",
              "      async function convertToInteractive(key) {\n",
              "        const element = document.querySelector('#df-cb11885a-7264-4e27-8788-db6f02e415a6');\n",
              "        const dataTable =\n",
              "          await google.colab.kernel.invokeFunction('convertToInteractive',\n",
              "                                                    [key], {});\n",
              "        if (!dataTable) return;\n",
              "\n",
              "        const docLinkHtml = 'Like what you see? Visit the ' +\n",
              "          '<a target=\"_blank\" href=https://colab.research.google.com/notebooks/data_table.ipynb>data table notebook</a>'\n",
              "          + ' to learn more about interactive tables.';\n",
              "        element.innerHTML = '';\n",
              "        dataTable['output_type'] = 'display_data';\n",
              "        await google.colab.output.renderOutput(dataTable, element);\n",
              "        const docLink = document.createElement('div');\n",
              "        docLink.innerHTML = docLinkHtml;\n",
              "        element.appendChild(docLink);\n",
              "      }\n",
              "    </script>\n",
              "  </div>\n",
              "\n",
              "\n",
              "<div id=\"df-0fbb4e46-bbfd-4b18-b16b-b9f2dede3158\">\n",
              "  <button class=\"colab-df-quickchart\" onclick=\"quickchart('df-0fbb4e46-bbfd-4b18-b16b-b9f2dede3158')\"\n",
              "            title=\"Suggest charts\"\n",
              "            style=\"display:none;\">\n",
              "\n",
              "<svg xmlns=\"http://www.w3.org/2000/svg\" height=\"24px\"viewBox=\"0 0 24 24\"\n",
              "     width=\"24px\">\n",
              "    <g>\n",
              "        <path d=\"M19 3H5c-1.1 0-2 .9-2 2v14c0 1.1.9 2 2 2h14c1.1 0 2-.9 2-2V5c0-1.1-.9-2-2-2zM9 17H7v-7h2v7zm4 0h-2V7h2v10zm4 0h-2v-4h2v4z\"/>\n",
              "    </g>\n",
              "</svg>\n",
              "  </button>\n",
              "\n",
              "<style>\n",
              "  .colab-df-quickchart {\n",
              "      --bg-color: #E8F0FE;\n",
              "      --fill-color: #1967D2;\n",
              "      --hover-bg-color: #E2EBFA;\n",
              "      --hover-fill-color: #174EA6;\n",
              "      --disabled-fill-color: #AAA;\n",
              "      --disabled-bg-color: #DDD;\n",
              "  }\n",
              "\n",
              "  [theme=dark] .colab-df-quickchart {\n",
              "      --bg-color: #3B4455;\n",
              "      --fill-color: #D2E3FC;\n",
              "      --hover-bg-color: #434B5C;\n",
              "      --hover-fill-color: #FFFFFF;\n",
              "      --disabled-bg-color: #3B4455;\n",
              "      --disabled-fill-color: #666;\n",
              "  }\n",
              "\n",
              "  .colab-df-quickchart {\n",
              "    background-color: var(--bg-color);\n",
              "    border: none;\n",
              "    border-radius: 50%;\n",
              "    cursor: pointer;\n",
              "    display: none;\n",
              "    fill: var(--fill-color);\n",
              "    height: 32px;\n",
              "    padding: 0;\n",
              "    width: 32px;\n",
              "  }\n",
              "\n",
              "  .colab-df-quickchart:hover {\n",
              "    background-color: var(--hover-bg-color);\n",
              "    box-shadow: 0 1px 2px rgba(60, 64, 67, 0.3), 0 1px 3px 1px rgba(60, 64, 67, 0.15);\n",
              "    fill: var(--button-hover-fill-color);\n",
              "  }\n",
              "\n",
              "  .colab-df-quickchart-complete:disabled,\n",
              "  .colab-df-quickchart-complete:disabled:hover {\n",
              "    background-color: var(--disabled-bg-color);\n",
              "    fill: var(--disabled-fill-color);\n",
              "    box-shadow: none;\n",
              "  }\n",
              "\n",
              "  .colab-df-spinner {\n",
              "    border: 2px solid var(--fill-color);\n",
              "    border-color: transparent;\n",
              "    border-bottom-color: var(--fill-color);\n",
              "    animation:\n",
              "      spin 1s steps(1) infinite;\n",
              "  }\n",
              "\n",
              "  @keyframes spin {\n",
              "    0% {\n",
              "      border-color: transparent;\n",
              "      border-bottom-color: var(--fill-color);\n",
              "      border-left-color: var(--fill-color);\n",
              "    }\n",
              "    20% {\n",
              "      border-color: transparent;\n",
              "      border-left-color: var(--fill-color);\n",
              "      border-top-color: var(--fill-color);\n",
              "    }\n",
              "    30% {\n",
              "      border-color: transparent;\n",
              "      border-left-color: var(--fill-color);\n",
              "      border-top-color: var(--fill-color);\n",
              "      border-right-color: var(--fill-color);\n",
              "    }\n",
              "    40% {\n",
              "      border-color: transparent;\n",
              "      border-right-color: var(--fill-color);\n",
              "      border-top-color: var(--fill-color);\n",
              "    }\n",
              "    60% {\n",
              "      border-color: transparent;\n",
              "      border-right-color: var(--fill-color);\n",
              "    }\n",
              "    80% {\n",
              "      border-color: transparent;\n",
              "      border-right-color: var(--fill-color);\n",
              "      border-bottom-color: var(--fill-color);\n",
              "    }\n",
              "    90% {\n",
              "      border-color: transparent;\n",
              "      border-bottom-color: var(--fill-color);\n",
              "    }\n",
              "  }\n",
              "</style>\n",
              "\n",
              "  <script>\n",
              "    async function quickchart(key) {\n",
              "      const quickchartButtonEl =\n",
              "        document.querySelector('#' + key + ' button');\n",
              "      quickchartButtonEl.disabled = true;  // To prevent multiple clicks.\n",
              "      quickchartButtonEl.classList.add('colab-df-spinner');\n",
              "      try {\n",
              "        const charts = await google.colab.kernel.invokeFunction(\n",
              "            'suggestCharts', [key], {});\n",
              "      } catch (error) {\n",
              "        console.error('Error during call to suggestCharts:', error);\n",
              "      }\n",
              "      quickchartButtonEl.classList.remove('colab-df-spinner');\n",
              "      quickchartButtonEl.classList.add('colab-df-quickchart-complete');\n",
              "    }\n",
              "    (() => {\n",
              "      let quickchartButtonEl =\n",
              "        document.querySelector('#df-0fbb4e46-bbfd-4b18-b16b-b9f2dede3158 button');\n",
              "      quickchartButtonEl.style.display =\n",
              "        google.colab.kernel.accessAllowed ? 'block' : 'none';\n",
              "    })();\n",
              "  </script>\n",
              "</div>\n",
              "    </div>\n",
              "  </div>\n"
            ]
          },
          "metadata": {},
          "execution_count": 35
        }
      ]
    },
    {
      "cell_type": "code",
      "source": [
        "for i, genre in enumerate(test_codes):\n",
        "  count = 0\n",
        "  year_df = year_to_df(genre)\n",
        "  year_df.to_csv('/content/drive/MyDrive/Colab Notebooks/Indep. Study 2023 -final files/'+str(genre)+'_2023.txt')\n",
        "  print(count)\n",
        "  print(genre)\n",
        "  count = count+1"
      ],
      "metadata": {
        "id": "Nr8MeyKARmnF",
        "colab": {
          "base_uri": "https://localhost:8080/"
        },
        "outputId": "5ff75923-7809-4c0c-dfa9-29f9ed7a6e0c"
      },
      "execution_count": null,
      "outputs": [
        {
          "output_type": "stream",
          "name": "stdout",
          "text": [
            "0\n",
            "combined-print-and-e-book-fiction\n",
            "0\n",
            "combined-print-and-e-book-nonfiction\n",
            "0\n",
            "hardcover-fiction\n",
            "0\n",
            "hardcover-nonfiction\n"
          ]
        }
      ]
    },
    {
      "cell_type": "code",
      "source": [
        "other_names = list_encoded_names[4:]\n",
        "len(other_names)"
      ],
      "metadata": {
        "colab": {
          "base_uri": "https://localhost:8080/"
        },
        "id": "y-ALlJawE2dV",
        "outputId": "abbbd69f-4558-46f6-981c-590d0578aaa2"
      },
      "execution_count": null,
      "outputs": [
        {
          "output_type": "execute_result",
          "data": {
            "text/plain": [
              "55"
            ]
          },
          "metadata": {},
          "execution_count": 40
        }
      ]
    },
    {
      "cell_type": "code",
      "source": [
        "count = 0\n",
        "for i, genre in enumerate(other_names):\n",
        "  try:\n",
        "    year_df = year_to_df(genre)\n",
        "    year_df.to_csv('/content/drive/MyDrive/Colab Notebooks/Indep. Study 2023 -final files/'+str(genre)+'_2023.txt')\n",
        "  except:\n",
        "    continue\n",
        "  print(count)\n",
        "  print(genre)\n",
        "  count = count+1"
      ],
      "metadata": {
        "id": "qjLJHuq4bJ-0"
      },
      "execution_count": null,
      "outputs": []
    }
  ]
}